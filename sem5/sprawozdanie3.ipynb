{
 "cells": [
  {
   "cell_type": "markdown",
   "metadata": {
    "vscode": {
     "languageId": "markdown"
    }
   },
   "source": [
    "![tabela](tabela3.png \"tabela\")"
   ]
  },
  {
   "cell_type": "markdown",
   "metadata": {},
   "source": [
    "Wprowadzenie teoretyczne\n",
    "\n",
    "Grafy są strukturami danych składającymi się z wierzchołków i krawędzi, które łączą te wierzchołki. Umożliwiają modelowanie różnych typów sieci, jak również zależności między elementami systemu. Grafy mogą być nieskierowane, gdzie krawędzie są symetryczne, lub skierowane, z krawędziami działającymi w jednym kierunku. Dodatkowo, grafy mogą posiadać wagi, które przypisują określoną wartość do krawędzi, umożliwiając modelowanie odległości lub kosztów przejść między wierzchołkami. Struktura grafów znajduje szerokie zastosowanie w analizie sieci społecznych, mapach geograficznych, i innych systemach o skomplikowanych połączeniach.\n",
    "\n",
    "Aby przechowywać i przetwarzać grafy, używamy różnych metod reprezentacji, takich jak macierz sąsiedztwa, macierz incydencji oraz listy sąsiedztwa. Macierz sąsiedztwa jest kwadratową macierzą, w której każdy wiersz i kolumna odpowiadają wierzchołkom grafu, a wartości określają połączenia między nimi. Wskaźniki, z kolei, są specjalnymi zmiennymi przechowującymi adresy w pamięci. W kontekście dynamicznej alokacji pamięci, wskaźniki odgrywają kluczową rolę, umożliwiając elastyczne tworzenie struktur danych o zmiennym rozmiarze, takich jak tablice dynamiczne.\n",
    "\n",
    "Operacje odczytu i zapisu danych do plików pozwalają na przechowywanie i późniejsze odtwarzanie grafów oraz ich macierzy. Użycie bibliotek takich jak <fstream> w C++ umożliwia zapis danych do pliku i ich odczyt, co jest niezbędne do utrwalania danych grafowych. Przykłady kodu przedstawiają, jak można zapisywać oraz odczytywać wartości z plików tekstowych, a także, jak implementować funkcje operujące na plikach za pomocą ios::out dla zapisu oraz ios::in dla odczytu."
   ]
  },
  {
   "cell_type": "markdown",
   "metadata": {},
   "source": [
    "## Zadanie 1"
   ]
  },
  {
   "cell_type": "code",
   "execution_count": null,
   "metadata": {},
   "outputs": [],
   "source": [
    "//01.cpp\n",
    "\n",
    "#include <iostream>\n",
    "#include <fstream>\n",
    "\n",
    "using namespace std;\n",
    "\n",
    "int main(){\n",
    "    int n, m;\n",
    "    fstream zapis;\n",
    "\n",
    "    zapis.open(\"tablica.txt\", ios::out);\n",
    "\n",
    "    cout << \"podaj rozmiar wierszy: \" << endl;\n",
    "    cin >> n;\n",
    "\n",
    "    cout << \"podaj rozmiar kolumn: \" << endl;\n",
    "    cin >> m;\n",
    "\n",
    "    int **tab;\n",
    "\n",
    "    tab = new int *[n];\n",
    "\n",
    "    for (int i = 0; i < n; i++){\n",
    "        tab[i] = new int[m];\n",
    "    }\n",
    "\n",
    "    for (int i = 0; i < n; i++){\n",
    "        for (int j = 0; j < m; j++){\n",
    "            tab[i][j] = (i + 1) * (j + 1);\n",
    "        }\n",
    "    }\n",
    "\n",
    "\n",
    "    for (int i = 0; i < n; i++){\n",
    "        for (int j = 0; j < m; j++){\n",
    "            zapis << tab[i][j] << \"  \";\n",
    "        }\n",
    "        zapis << endl;\n",
    "    }\n",
    "\n",
    "    for (int i = 0; i < n; i++){\n",
    "        delete []tab[i];\n",
    "    }\n",
    "\n",
    "    delete []tab;\n",
    "\n",
    "    zapis.close();\n",
    "    return 0;\n",
    "}"
   ]
  },
  {
   "cell_type": "code",
   "execution_count": null,
   "metadata": {},
   "outputs": [],
   "source": [
    "// tablica.txt\n",
    "\n",
    "1  2  3  \n",
    "2  4  6  \n",
    "3  6  9  \n"
   ]
  },
  {
   "cell_type": "markdown",
   "metadata": {},
   "source": [
    "![zad 1](01/01.png \"1\")"
   ]
  },
  {
   "cell_type": "markdown",
   "metadata": {},
   "source": [
    "## Zadanie 2"
   ]
  },
  {
   "cell_type": "code",
   "execution_count": null,
   "metadata": {},
   "outputs": [],
   "source": [
    "//02.cpp\n",
    "\n",
    "#include <iostream>\n",
    "#include <fstream>\n",
    "\n",
    "using namespace std;\n",
    "\n",
    "int main(){\n",
    "    fstream odczyt;\n",
    "    string h;\n",
    "    string hs;\n",
    "\n",
    "    odczyt.open(\"haslo.txt\", ios::in);\n",
    "\n",
    "    if (!odczyt.good()){\n",
    "        cout << \"nie ma pliku z haslami\" << endl;\n",
    "        return 1;\n",
    "    }\n",
    "\n",
    "    cout << \"podaj haslo: \";\n",
    "    cin >> h;\n",
    "\n",
    "    odczyt >> hs;\n",
    "\n",
    "    if (h == hs){\n",
    "        fstream dziennik;\n",
    "        dziennik.open(\"dziennik_ocen.txt\", ios::in);\n",
    "        string linia;\n",
    "\n",
    "        while (getline(dziennik, linia)){\n",
    "            cout << linia << endl;\n",
    "        }\n",
    "        dziennik.close();\n",
    "    }\n",
    "\n",
    "    odczyt.close();\n",
    "    return 0;\n",
    "}"
   ]
  },
  {
   "cell_type": "code",
   "execution_count": null,
   "metadata": {},
   "outputs": [],
   "source": [
    "// dziennik_ocen.txt\n",
    "\n",
    "polski 1 1 3 5\n",
    "matematyka 1 1 5 5 4\n",
    "fizyka 2 3 1 2\n",
    "chemia 3 4 5\n",
    "wf 1 1 1 1 1 "
   ]
  },
  {
   "cell_type": "code",
   "execution_count": null,
   "metadata": {},
   "outputs": [],
   "source": [
    "// haslo.txt\n",
    "\n",
    "asd"
   ]
  },
  {
   "cell_type": "markdown",
   "metadata": {},
   "source": [
    "![zad 2](02/02.png \"2\")"
   ]
  },
  {
   "cell_type": "markdown",
   "metadata": {},
   "source": [
    "## Zadanie 3"
   ]
  },
  {
   "cell_type": "code",
   "execution_count": null,
   "metadata": {},
   "outputs": [],
   "source": [
    "// 03.cpp\n",
    "\n",
    "#include <iostream>\n",
    "\n",
    "\n",
    "using namespace std;\n",
    "\n",
    "int main(){\n",
    "    int v, e;\n",
    "\n",
    "    cout << \"podaj liczbe wierzcholkow: \";\n",
    "    cin >> v;\n",
    "\n",
    "    int **sasiedzi = new int *[v];\n",
    "\n",
    "    for (int i = 0; i < v; i++){\n",
    "        sasiedzi[i] = new int[v];\n",
    "    }\n",
    "\n",
    "    for (int i = 0; i < v; i++){\n",
    "        for (int j = 0; j < v; j++){\n",
    "            sasiedzi[i][j] = 0;\n",
    "        }\n",
    "    }\n",
    "\n",
    "    cout << \"podaj liczbe krawedzi: \";\n",
    "    cin >> e;\n",
    "\n",
    "    for (int i = 0; i < e; i++){\n",
    "        int a, b;\n",
    "        cout << \"podaj \" << i + 1 << \" pare krawedzi np. 1 3 :\";\n",
    "        cin >> a >> b;\n",
    "        sasiedzi[a][b] = 1;\n",
    "    }\n",
    "\n",
    "    for (int i = 0; i < v; i++){\n",
    "        for (int j = 0; j < v; j++){\n",
    "            cout << sasiedzi[i][j] << \"  \";\n",
    "        }\n",
    "        cout << endl;\n",
    "    }\n",
    "\n",
    "    for (int i = 0; i < v; i++){\n",
    "        delete []sasiedzi[i];\n",
    "    }\n",
    "    delete []sasiedzi;\n",
    "    return 0;\n",
    "}"
   ]
  },
  {
   "cell_type": "markdown",
   "metadata": {},
   "source": [
    "![zadanie 3](03/03.png \"3\")"
   ]
  },
  {
   "cell_type": "markdown",
   "metadata": {},
   "source": [
    "## Zadanie 4\n"
   ]
  },
  {
   "cell_type": "code",
   "execution_count": null,
   "metadata": {},
   "outputs": [],
   "source": [
    "// 04.cpp\n",
    "\n",
    "#include <iostream>\n",
    "#include <fstream>\n",
    "#include <string>\n",
    "\n",
    "\n",
    "using namespace std;\n",
    "\n",
    "int main(){\n",
    "    fstream odczyt;\n",
    "    odczyt.open(\"dane.txt\", ios::in);\n",
    "    string pierwsze_dane;\n",
    "\n",
    "\n",
    "    getline(odczyt, pierwsze_dane);\n",
    "\n",
    "    string v_raw, e_raw;\n",
    "\n",
    "    bool space_happened = false;\n",
    "\n",
    "    for (int i = 0; i < pierwsze_dane.length(); i++){\n",
    "        if (pierwsze_dane[i] == ' '){\n",
    "            space_happened = true;\n",
    "        }\n",
    "\n",
    "        if (!space_happened && pierwsze_dane[i] != ' '){\n",
    "            v_raw += pierwsze_dane[i];\n",
    "        }\n",
    "        else{\n",
    "            e_raw += pierwsze_dane[i];\n",
    "        }\n",
    "    }\n",
    "    int v_count, e_count;\n",
    "\n",
    "    v_count = stoi(v_raw);\n",
    "    e_count = stoi(e_raw);\n",
    "\n",
    "    int **sasiedzi = new int *[v_count];\n",
    "\n",
    "    for (int i = 0; i < v_count; i++){\n",
    "        sasiedzi[i] = new int[v_count];\n",
    "    }\n",
    "\n",
    "    for (int i = 0; i < v_count; i++){\n",
    "        for (int j = 0; j < v_count; j++){\n",
    "            sasiedzi[i][j] = 0;\n",
    "        }\n",
    "    }\n",
    "    string line;\n",
    "    string e1,e2;\n",
    "    int ie1, ie2;\n",
    "    space_happened = false;\n",
    "    while (getline(odczyt, line)){\n",
    "        e1 = \"\";\n",
    "        e2 = \"\";\n",
    "        space_happened = false;\n",
    "        for (int i = 0; i < line.length(); i++){\n",
    "            if (line[i] == ' '){\n",
    "                space_happened = true;\n",
    "            }\n",
    "\n",
    "            if (!space_happened && line[i] != ' '){\n",
    "                e1 += line[i];\n",
    "            }\n",
    "            else if (space_happened && line[i] != ' '){\n",
    "                e2 += line[i];\n",
    "            }\n",
    "        }\n",
    "        ie1 = stoi(e1);\n",
    "        ie2 = stoi(e2);\n",
    "        sasiedzi[ie1][ie2] = 1;\n",
    "    }\n",
    "\n",
    "    for (int i = 0; i < v_count; i++){\n",
    "        for (int j = 0; j < v_count; j++){\n",
    "            cout << sasiedzi[i][j] << \"  \";\n",
    "        }\n",
    "        cout << endl;\n",
    "    }\n",
    "\n",
    "    for (int i = 0; i < v_count; i++){\n",
    "        delete []sasiedzi[i];\n",
    "    }\n",
    "    delete []sasiedzi;\n",
    "    return 0;\n",
    "}"
   ]
  },
  {
   "cell_type": "code",
   "execution_count": null,
   "metadata": {},
   "outputs": [],
   "source": [
    "// dane.txt\n",
    "\n",
    "2 2\n",
    "0 1\n",
    "1 0\n",
    "0 0\n"
   ]
  },
  {
   "cell_type": "markdown",
   "metadata": {},
   "source": [
    "![zadanie 4](04/04.png \"4\")"
   ]
  },
  {
   "cell_type": "markdown",
   "metadata": {},
   "source": [
    "# Podsumowanie i Wnioski"
   ]
  },
  {
   "cell_type": "markdown",
   "metadata": {},
   "source": [
    "Repozytorium github link: https://github.com/UmarlyPoeta/pi_sem_1_bin\n",
    "\n",
    "Implementacja grafów i ich operacji w C++ jest realizowana poprzez różnorodne struktury danych i metody reprezentacji, takie jak macierze sąsiedztwa i wskaźniki. Dynamiczna alokacja pamięci i operacje na plikach stanowią fundament w przetwarzaniu danych grafowych, zapewniając ich elastyczność oraz trwałość. Umiejętność manipulacji wskaźnikami i plikami umożliwia efektywne i zoptymalizowane przetwarzanie grafów, co jest kluczowe dla zaawansowanych zastosowań w algorytmice i analizie danych."
   ]
  }
 ],
 "metadata": {
  "kernelspec": {
   "display_name": "Python 3 (ipykernel)",
   "language": "python",
   "name": "python3"
  },
  "language_info": {
   "codemirror_mode": {
    "name": "ipython",
    "version": 3
   },
   "file_extension": ".py",
   "mimetype": "text/x-python",
   "name": "python",
   "nbconvert_exporter": "python",
   "pygments_lexer": "ipython3",
   "version": "3.12.6"
  }
 },
 "nbformat": 4,
 "nbformat_minor": 4
}
