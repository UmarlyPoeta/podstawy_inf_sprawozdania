{
 "cells": [
  {
   "cell_type": "markdown",
   "metadata": {
    "vscode": {
     "languageId": "markdown"
    }
   },
   "source": [
    "![tabela](/sem4/tabela3.png \"tabela\")"
   ]
  },
  {
   "cell_type": "markdown",
   "metadata": {},
   "source": [
    "Logika jest podstawą informatyki i programowania, ponieważ operuje na wyrażeniach, które mogą przyjmować wartości logiczne. Zdanie logiczne jest stwierdzeniem, któremu można przypisać wartość logiczną: PRAWDA lub FAŁSZ. Zazwyczaj zdania logiczne oznacza się literami, np. pp, qq, rr. Przy użyciu spójników logicznych (jak koniunkcja, alternatywa, negacja, implikacja, równoważność), możemy łączyć zdania proste w bardziej złożone struktury.\n",
    "\n",
    "    Negacja (¬p¬p) odwraca wartość logiczną zdania. Jest prawdziwa, gdy zdanie początkowe jest fałszywe.\n",
    "    Koniunkcja (p∧qp∧q) jest prawdziwa tylko wtedy, gdy oba zdania pp i qq są prawdziwe.\n",
    "    Alternatywa (p∨qp∨q) jest prawdziwa, gdy przynajmniej jedno ze zdań jest prawdziwe.\n",
    "    Implikacja (p⇒qp⇒q) jest fałszywa tylko wtedy, gdy pp jest prawdziwe, a qq jest fałszywe.\n",
    "    Równoważność (p⇔qp⇔q) jest prawdziwa, gdy oba zdania są jednocześnie prawdziwe lub fałszywe.\n",
    "\n",
    "Tautologią nazywamy wyrażenie logiczne, które zawsze jest prawdziwe, niezależnie od wartości logicznych jego składników. Można ją sprawdzić metodą zero-jedynkową, tworząc tabele wartości logicznych.\n",
    "\n",
    "Kwantyfikatory to symbole używane do opisywania własności zbiorów:\n",
    "\n",
    "    Kwantyfikator ogólny (∀∀) wskazuje, że własność dotyczy wszystkich elementów danego zbioru.\n",
    "    Kwantyfikator szczegółowy (∃∃) oznacza, że istnieje przynajmniej jeden element, który spełnia daną własność.\n",
    "\n",
    "W programowaniu, zmienne logiczne (typu bool) mogą przyjmować wartości 0 (FAŁSZ) lub 1 (PRAWDA) i są często wykorzystywane w instrukcjach warunkowych (if), aby podejmować decyzje na podstawie wyników operacji logicznych."
   ]
  },
  {
   "cell_type": "markdown",
   "metadata": {},
   "source": [
    "## Zadanie 1"
   ]
  },
  {
   "cell_type": "code",
   "execution_count": null,
   "metadata": {},
   "outputs": [],
   "source": [
    "#include <iostream>\n",
    "\n",
    "using namespace std;\n",
    "\n",
    "bool koniunkcja(bool p1, bool p2){\n",
    "    return p1 && p2;\n",
    "}\n",
    "\n",
    "bool alternatywa(bool p1, bool p2){\n",
    "    return p1 || p2;\n",
    "}\n",
    "\n",
    "bool negacja(bool p){\n",
    "    return !p;\n",
    "}\n",
    "\n",
    "bool rownowaznosc(bool p1, bool p2){\n",
    "    return p1 == p2;\n",
    "}\n",
    "\n",
    "bool implikacja(bool p1, bool p2){\n",
    "    if (!p1 && p2){\n",
    "        return true;\n",
    "    }\n",
    "    return p1 == p2;\n",
    "}\n",
    "\n",
    "int main(){\n",
    "    bool p, q;\n",
    "\n",
    "    cout << \"podaj wartosc logiczna p (1/0):\";\n",
    "    cin >> p;\n",
    "\n",
    "    cout << \"podaj wartosc logiczna q (1/0):\";\n",
    "    cin >> q;\n",
    "\n",
    "    cout << \"koniunkcja wynosi: \" << koniunkcja(p,q) << endl;\n",
    "    cout << \"alternatywa wynosi: \" << alternatywa(p,q) << endl;\n",
    "    cout << \"negacja p wynosi: \" << negacja(p) << endl;\n",
    "    cout << \"negacja q wynosi: \" << negacja(q) << endl;\n",
    "    cout << \"implikacja wynosi: \" << implikacja(p,q) << endl;\n",
    "    cout << \"rownowaznosc wynosi: \" << rownowaznosc(p,q) << endl;\n",
    "    \n",
    "\n",
    "    return 0;\n",
    "}"
   ]
  },
  {
   "cell_type": "markdown",
   "metadata": {},
   "source": [
    "![zad 1](/sem4/01/01.png \"01\")"
   ]
  },
  {
   "cell_type": "markdown",
   "metadata": {},
   "source": [
    "## Zadanie 2"
   ]
  },
  {
   "cell_type": "code",
   "execution_count": null,
   "metadata": {},
   "outputs": [],
   "source": [
    "\n",
    "// 02.cpp\n",
    "\n",
    "#include <iostream>\n",
    "#include \"func.hpp\"\n",
    "\n",
    "using namespace std;\n",
    "\n",
    "bool p = true;\n",
    "bool q = true;\n",
    "bool r = false;\n",
    "\n",
    "int main(){\n",
    "\n",
    "    bool a = koniunkcja(p,q);\n",
    "    bool b = alternatywa(p,q);\n",
    "    bool c = koniunkcja(negacja(p), alternatywa(p,q));\n",
    "    bool d = implikacja(koniunkcja(p,r), q);\n",
    "    bool e = negacja(rownowaznosc(p, alternatywa(q,r)));\n",
    "    bool f = rownowaznosc(alternatywa(implikacja(p,r),negacja(q)),implikacja(p, koniunkcja(r, negacja(q))));\n",
    "    bool g = implikacja(alternatywa(alternatywa(negacja(r), q), negacja(koniunkcja(q,r))), negacja(implikacja(q,p)));\n",
    "\n",
    "    cout << \"zdanie a wynosi: \" << a << endl;\n",
    "\n",
    "    cout << \"zdanie b wynosi: \" << b << endl;\n",
    "\n",
    "    cout << \"zdanie c wynosi: \" << c << endl;\n",
    "\n",
    "    cout << \"zdanie d wynosi: \" << d << endl;\n",
    "\n",
    "    cout << \"zdanie e wynosi: \" << e << endl;\n",
    "\n",
    "    cout << \"zdanie f wynosi: \" << f << endl;\n",
    "\n",
    "    cout << \"zdanie g wynosi: \" << g << endl;\n",
    "\n",
    "    cout << \"podaj p (1/0): \";\n",
    "    cin >> p;\n",
    "\n",
    "    cout << \"podaj q(1/0): \";\n",
    "    cin>> q;\n",
    "\n",
    "\n",
    "    cout << \"podaj r(1/0): \";\n",
    "    cin>> r;\n",
    "\n",
    "\n",
    "    a = koniunkcja(p,q);\n",
    "    b = alternatywa(p,q);\n",
    "    c = koniunkcja(negacja(p), alternatywa(p,q));\n",
    "    d = implikacja(koniunkcja(p,r), q);\n",
    "    e = negacja(rownowaznosc(p, alternatywa(q,r)));\n",
    "    f = rownowaznosc(alternatywa(implikacja(p,r),negacja(q)),implikacja(p, koniunkcja(r, negacja(q))));\n",
    "    g = implikacja(alternatywa(alternatywa(negacja(r), q), negacja(koniunkcja(q,r))), negacja(implikacja(q,p)));\n",
    "\n",
    "    cout << \"zdanie a wynosi: \" << a << endl;\n",
    "\n",
    "    cout << \"zdanie b wynosi: \" << b << endl;\n",
    "\n",
    "    cout << \"zdanie c wynosi: \" << c << endl;\n",
    "\n",
    "    cout << \"zdanie d wynosi: \" << d << endl;\n",
    "\n",
    "    cout << \"zdanie e wynosi: \" << e << endl;\n",
    "\n",
    "    cout << \"zdanie f wynosi: \" << f << endl;\n",
    "\n",
    "    cout << \"zdanie g wynosi: \" << g << endl;\n",
    "\n",
    "\n",
    "    return 0;\n",
    "}\n"
   ]
  },
  {
   "cell_type": "code",
   "execution_count": null,
   "metadata": {},
   "outputs": [],
   "source": [
    "// func.hpp\n",
    "\n",
    "#pragma once\n",
    "\n",
    "bool koniunkcja(bool p1, bool p2);\n",
    "\n",
    "bool alternatywa(bool p1, bool p2);\n",
    "\n",
    "bool negacja(bool p);\n",
    "\n",
    "bool rownowaznosc(bool p1, bool p2);\n",
    "\n",
    "bool implikacja(bool p1, bool p2);\n"
   ]
  },
  {
   "cell_type": "code",
   "execution_count": null,
   "metadata": {},
   "outputs": [],
   "source": [
    "\n",
    "// func.cpp\n",
    "\n",
    "bool koniunkcja(bool p1, bool p2){\n",
    "    return p1 && p2;\n",
    "}\n",
    "\n",
    "bool alternatywa(bool p1, bool p2){\n",
    "    return p1 || p2;\n",
    "}\n",
    "\n",
    "bool negacja(bool p){\n",
    "    return !p;\n",
    "}\n",
    "\n",
    "bool rownowaznosc(bool p1, bool p2){\n",
    "    return p1 == p2;\n",
    "}\n",
    "\n",
    "bool implikacja(bool p1, bool p2){\n",
    "    if (!p1 && p2){\n",
    "        return true;\n",
    "    }\n",
    "    return p1 == p2;\n",
    "}\n"
   ]
  },
  {
   "cell_type": "markdown",
   "metadata": {},
   "source": [
    "![zad 2](/sem4/02/02.png \"02\")"
   ]
  },
  {
   "cell_type": "markdown",
   "metadata": {},
   "source": [
    "![zad 2](/sem4/02/02-tabela.png \"02tabela\")"
   ]
  },
  {
   "cell_type": "markdown",
   "metadata": {},
   "source": [
    "## Zadanie 3"
   ]
  },
  {
   "cell_type": "code",
   "execution_count": null,
   "metadata": {},
   "outputs": [],
   "source": [
    "// 03.cpp\n",
    "\n",
    "#include <iostream>\n",
    "#include \"func.hpp\"\n",
    "\n",
    "\n",
    "using namespace std;\n",
    "\n",
    "bool p;\n",
    "bool q;\n",
    "bool r;\n",
    "\n",
    "\n",
    "\n",
    "int main(){\n",
    "    \n",
    "    cout << \"podaj p (1/0): \";\n",
    "    cin >> p;\n",
    "\n",
    "    cout << \"podaj q(1/0): \";\n",
    "    cin>> q;\n",
    "\n",
    "\n",
    "    cout << \"podaj r(1/0): \";\n",
    "    cin>> r;\n",
    "\n",
    "    bool z1 = implikacja(implikacja(p || q || r, !p), q || r) && !p;\n",
    "    bool z14 = implikacja(p, !p) || q;\n",
    "    bool z27 = implikacja(implikacja((implikacja(implikacja(implikacja(p,q),q), r),implikacja(r, p)), q), p);\n",
    "\n",
    "    cout << \"zdanie logiczne nr 1 wynosi: \" << z1 << endl;\n",
    "    \n",
    "    cout << \"zdanie logiczne nr 14 wynosi: \" << z14 << endl;\n",
    "    \n",
    "    cout << \"zdanie logiczne nr 27 wynosi: \" << z27 << endl;\n",
    "    \n",
    "\n",
    "    return 0;\n",
    "}"
   ]
  },
  {
   "cell_type": "code",
   "execution_count": null,
   "metadata": {},
   "outputs": [],
   "source": [
    "\n",
    "// func.cpp\n",
    "\n",
    "bool koniunkcja(bool p1, bool p2){\n",
    "    return p1 && p2;\n",
    "}\n",
    "\n",
    "bool alternatywa(bool p1, bool p2){\n",
    "    return p1 || p2;\n",
    "}\n",
    "\n",
    "bool negacja(bool p){\n",
    "    return !p;\n",
    "}\n",
    "\n",
    "bool rownowaznosc(bool p1, bool p2){\n",
    "    return p1 == p2;\n",
    "}\n",
    "\n",
    "bool implikacja(bool p1, bool p2){\n",
    "    if (!p1 && p2){\n",
    "        return true;\n",
    "    }\n",
    "    return p1 == p2;\n",
    "}\n"
   ]
  },
  {
   "cell_type": "code",
   "execution_count": null,
   "metadata": {},
   "outputs": [],
   "source": [
    "// func.hpp\n",
    "\n",
    "#pragma once\n",
    "\n",
    "bool koniunkcja(bool p1, bool p2);\n",
    "\n",
    "bool alternatywa(bool p1, bool p2);\n",
    "\n",
    "bool negacja(bool p);\n",
    "\n",
    "bool rownowaznosc(bool p1, bool p2);\n",
    "\n",
    "bool implikacja(bool p1, bool p2);\n"
   ]
  },
  {
   "cell_type": "markdown",
   "metadata": {},
   "source": [
    "![zadanie 3](/sem4/03/03.png \"03\")"
   ]
  },
  {
   "cell_type": "markdown",
   "metadata": {},
   "source": [
    "# Podsumowanie i Wnioski"
   ]
  },
  {
   "cell_type": "markdown",
   "metadata": {},
   "source": [
    "Repozytorium github link: https://github.com/UmarlyPoeta/pi_sem_1_bin\n",
    "\n",
    "Zadania wymagające zastosowania operacji logicznych i kwantyfikatorów są kluczowe w analizie i przetwarzaniu informacji w informatyce. Ćwiczenia te mają na celu rozwijanie zdolności do tworzenia i analizy wyrażeń logicznych oraz ich przekształcania w programy komputerowe. Rozwiązanie zadania 1 i zadania 2 rozwija umiejętność programowania operacji logicznych, dzięki czemu łatwiej jest zrozumieć działanie algorytmów warunkowych oraz manipulację danymi w oparciu o wartości logiczne. Z kolei sprawdzenie tautologii i prawdziwości zdań złożonych w zadaniu 3 pozwala zrozumieć istotę dowodzenia poprawności wyrażeń, co jest przydatne w dalszym rozwoju umiejętności analitycznych w informatyce.\n",
    "\n",
    "Poprzez implementację funkcji, które realizują operacje logiczne, i wywoływanie ich z różnymi wartościami, pogłębiamy zrozumienie fundamentalnych mechanizmów programowania oraz nabywamy kompetencji w zakresie wykorzystania logiki matematycznej w praktycznych zastosowaniach."
   ]
  }
 ],
 "metadata": {
  "kernelspec": {
   "display_name": "Python 3 (ipykernel)",
   "language": "python",
   "name": "python3"
  },
  "language_info": {
   "codemirror_mode": {
    "name": "ipython",
    "version": 3
   },
   "file_extension": ".py",
   "mimetype": "text/x-python",
   "name": "python",
   "nbconvert_exporter": "python",
   "pygments_lexer": "ipython3",
   "version": "3.12.6"
  }
 },
 "nbformat": 4,
 "nbformat_minor": 4
}
